{
 "cells": [
  {
   "cell_type": "code",
   "execution_count": 4,
   "metadata": {},
   "outputs": [
    {
     "name": "stdout",
     "output_type": "stream",
     "text": [
      "0    a\n",
      "1    b\n",
      "2    c\n",
      "3    d\n",
      "dtype: object\n"
     ]
    }
   ],
   "source": [
    "# pandas handles data through:    Series, DataFrame and Panel\n",
    "# pandas Series - is a 1D labelled array like object capable of holding data of any type(integer, string,float,python objects etc.). \n",
    "# The axis labels are collectively called index. A pandas series can be created using following constructor:-\n",
    "# Pandas.Series(data, index, dtype, copy)       #pandas series constructor    \n",
    "\n",
    "import numpy as np\n",
    "import pandas as pd\n",
    "data=np.array(['a', 'b', 'c', 'd'])\n",
    "s=pd.Series(data)\n",
    "print(s)"
   ]
  },
  {
   "cell_type": "code",
   "execution_count": 5,
   "metadata": {},
   "outputs": [
    {
     "name": "stdout",
     "output_type": "stream",
     "text": [
      "Empty DataFrame\n",
      "Columns: []\n",
      "Index: []\n",
      "\n",
      "\n",
      "   0  1\n",
      "0  1  2\n",
      "1  3  4\n",
      "2  5  6\n"
     ]
    }
   ],
   "source": [
    "# DataFrame is a Two-Dimensional tabular data structure with labeled axes rows, \n",
    "# and columns. an immutable, heterogeneous  pandas Dataframe consists of three components principal, data, rows, and columns. Pandas is built on the \n",
    "# NumPy library and written in languages like Python, Cython, and C.\n",
    "\n",
    "# 1) to create an empty dataframe-\n",
    "df = pd.DataFrame()\n",
    "print(df)\n",
    "\n",
    "print(\"\\n\")\n",
    "# 2)  to create a dataframe with values-\n",
    "df1= pd.DataFrame(([1,2], [3,4],[5,6]))\n",
    "print(df1)"
   ]
  },
  {
   "cell_type": "code",
   "execution_count": 9,
   "metadata": {},
   "outputs": [
    {
     "name": "stdout",
     "output_type": "stream",
     "text": [
      "   0  1\n",
      "0  1  2\n",
      "1  3  4\n",
      "   0  1\n",
      "1  3  4\n",
      "2  5  6\n"
     ]
    }
   ],
   "source": [
    "# 3) to see only selective rows in pandas-\n",
    "# from start/top -     \n",
    "print(df1.head(2))     #will read top 2 rows\n",
    "# from end/bottom - \n",
    "print(df1.tail(2))      #will read last 1 row\n",
    "\n",
    "\n",
    "# panel in pandas is a three-dimensional container of data. To create a panel, we can use ndarrays(multidimensional arrays) \n",
    "# and a dictionary of DataFrames(one of the Pandas 2-D data structures that contain data in the tabular form of rows and columns)\n",
    "# df= pd.Panel(data)\n",
    "# print(df)"
   ]
  },
  {
   "cell_type": "code",
   "execution_count": null,
   "metadata": {},
   "outputs": [],
   "source": []
  }
 ],
 "metadata": {
  "kernelspec": {
   "display_name": "Python 3 (ipykernel)",
   "language": "python",
   "name": "python3"
  },
  "language_info": {
   "codemirror_mode": {
    "name": "ipython",
    "version": 3
   },
   "file_extension": ".py",
   "mimetype": "text/x-python",
   "name": "python",
   "nbconvert_exporter": "python",
   "pygments_lexer": "ipython3",
   "version": "3.9.13"
  }
 },
 "nbformat": 4,
 "nbformat_minor": 2
}
