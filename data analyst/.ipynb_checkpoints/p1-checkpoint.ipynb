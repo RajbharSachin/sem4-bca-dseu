{
 "cells": [
  {
   "cell_type": "markdown",
   "id": "b7c353fd",
   "metadata": {},
   "source": [
    "#Q1"
   ]
  },
  {
   "cell_type": "markdown",
   "id": "c2d8a114",
   "metadata": {},
   "source": [
    "Fibonacci Series"
   ]
  },
  {
   "cell_type": "code",
   "execution_count": 7,
   "id": "b70284ad",
   "metadata": {},
   "outputs": [
    {
     "name": "stdout",
     "output_type": "stream",
     "text": [
      "Fibonacci Series:- \n",
      "0\n",
      "1\n",
      "1\n",
      "2\n",
      "3\n",
      "5\n"
     ]
    }
   ],
   "source": [
    "def fib(n):\n",
    "    a = 0\n",
    "    b = 1\n",
    "    print(\"Fibonacci Series:- \")\n",
    "    print(a)\n",
    "    print(b)\n",
    "    for i in range (0,n-2):\n",
    "        c=a+b\n",
    "        print(c)\n",
    "        a=b\n",
    "        b=c\n",
    "    \n",
    "fib(6)"
   ]
  },
  {
   "cell_type": "markdown",
   "id": "d3492fcf",
   "metadata": {},
   "source": [
    "Arithmetic Operations"
   ]
  },
  {
   "cell_type": "code",
   "execution_count": 11,
   "id": "954fbd08",
   "metadata": {},
   "outputs": [
    {
     "name": "stdout",
     "output_type": "stream",
     "text": [
      "Arithmetic Operations:- a= 3 and b= 6\n",
      "a+b =  9\n",
      "a-b =  -3\n",
      "a*b =  18\n",
      "a/b =  0.5\n",
      "a%b =  3\n"
     ]
    }
   ],
   "source": [
    "def arith(a,b):\n",
    "    print(\"Arithmetic Operations:- a=\",a,\"and b=\",b)\n",
    "    print(\"a+b = \",a+b)\n",
    "    print(\"a-b = \",a-b)\n",
    "    print(\"a*b = \",a*b)\n",
    "    print(\"a/b = \",a/b)\n",
    "    print(\"a%b = \",a%b)\n",
    "\n",
    "arith(3,6)"
   ]
  },
  {
   "cell_type": "markdown",
   "id": "8ba3a5a3",
   "metadata": {},
   "source": [
    "Area of triangle"
   ]
  },
  {
   "cell_type": "code",
   "execution_count": 14,
   "id": "46b67b37",
   "metadata": {},
   "outputs": [
    {
     "name": "stdout",
     "output_type": "stream",
     "text": [
      "Enter base value:- 3\n",
      "Enter height value:- 6\n",
      "Area of given triangle = 9.0\n"
     ]
    }
   ],
   "source": [
    "def triArea(b,h):\n",
    "    return (1/2*b*h)\n",
    "    \n",
    "x = int(input(\"Enter base value:- \"))\n",
    "y = int(input(\"Enter height value:- \"))\n",
    "print(\"Area of given triangle =\",triArea(x,y))"
   ]
  },
  {
   "cell_type": "markdown",
   "id": "b053ee6f",
   "metadata": {},
   "source": [
    "#Q2 "
   ]
  },
  {
   "cell_type": "markdown",
   "id": "7a8a7a23",
   "metadata": {},
   "source": [
    "Solve Quadratic Equation"
   ]
  },
  {
   "cell_type": "code",
   "execution_count": 46,
   "id": "62e560fb",
   "metadata": {},
   "outputs": [
    {
     "name": "stdout",
     "output_type": "stream",
     "text": [
      "Complex Solutions(No Real Solution)\n",
      "-1.0 + 1.0 i\n",
      "-1.0 - 1.0 i\n"
     ]
    }
   ],
   "source": [
    "import math\n",
    "def quadEq(a,b,c):\n",
    "    if a==0:\n",
    "        print(\"Invalid Eqn\")\n",
    "    else:\n",
    "        D = b*b-4*a*c\n",
    "        if D>0:\n",
    "            print(\"Two real solutions:-\")\n",
    "            one = ( -b + math.sqrt(D) )/2*a\n",
    "            two = ( -b - math.sqrt(D) )/2*a\n",
    "            print(one)\n",
    "            print(two)\n",
    "        elif D==0:\n",
    "            print(\"Just one solution:-\")\n",
    "            one = (-b)/2*a\n",
    "            print(one)\n",
    "            \n",
    "        else:\n",
    "            absD = abs(D)\n",
    "            print(\"Complex Solutions(No Real Solution):-\")\n",
    "            print((-b)/2*a,\"+\",math.sqrt(absD)/2*a,\"i\")\n",
    "            print((-b)/2*a,\"-\",math.sqrt(absD)/2*a,\"i\")\n",
    "\n",
    "quadEq(1,2,2)"
   ]
  },
  {
   "cell_type": "markdown",
   "id": "902d8e3c",
   "metadata": {},
   "source": [
    "Swap two variables"
   ]
  },
  {
   "cell_type": "code",
   "execution_count": 54,
   "id": "d62598f9",
   "metadata": {},
   "outputs": [
    {
     "name": "stdout",
     "output_type": "stream",
     "text": [
      "Before Swapping a= 1 b= -1\n",
      "After Swapping a= -1 b= 1\n"
     ]
    }
   ],
   "source": [
    "def swap2(a,b):\n",
    "        print(\"Before Swapping a=\",a,\"b=\",b)\n",
    "        temp=a\n",
    "        a=b\n",
    "        b=temp\n",
    "        print(\"After Swapping a=\",a,\"b=\",b)\n",
    "\n",
    "swap2(1,-1)"
   ]
  },
  {
   "cell_type": "markdown",
   "id": "e00de1ea",
   "metadata": {},
   "source": [
    "Check Prime No."
   ]
  },
  {
   "cell_type": "code",
   "execution_count": 85,
   "id": "c0146506",
   "metadata": {},
   "outputs": [
    {
     "name": "stdout",
     "output_type": "stream",
     "text": [
      "15 is a not a prime number\n"
     ]
    }
   ],
   "source": [
    "def chkPrime(n): \n",
    "    if(n<0):\n",
    "        print(\"Not a Prime \\nNegatives Cannot be prime\")\n",
    "    elif n==0:\n",
    "        print(\"Not a Prime \\nZero is divisible by all\")\n",
    "    else:\n",
    "        # check factors\n",
    "        isPrime = 1\n",
    "        for i in range(2,int(n/2)):\n",
    "            if n%i == 0:\n",
    "                isPrime = 0 \n",
    "                break\n",
    "        # use flag isPrime\n",
    "        if isPrime:\n",
    "            print(n,\"is a prime number\")\n",
    "        else:\n",
    "            print(n,\"is a not a prime number\")\n",
    "    \n",
    "chkPrime(15)"
   ]
  },
  {
   "cell_type": "code",
   "execution_count": null,
   "id": "62b49287",
   "metadata": {},
   "outputs": [],
   "source": []
  }
 ],
 "metadata": {
  "kernelspec": {
   "display_name": "Python 3 (ipykernel)",
   "language": "python",
   "name": "python3"
  },
  "language_info": {
   "codemirror_mode": {
    "name": "ipython",
    "version": 3
   },
   "file_extension": ".py",
   "mimetype": "text/x-python",
   "name": "python",
   "nbconvert_exporter": "python",
   "pygments_lexer": "ipython3",
   "version": "3.9.13"
  }
 },
 "nbformat": 4,
 "nbformat_minor": 5
}
