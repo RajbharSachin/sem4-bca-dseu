{
 "cells": [
  {
   "cell_type": "code",
   "execution_count": 1,
   "id": "dc4d3a00",
   "metadata": {},
   "outputs": [
    {
     "name": "stdout",
     "output_type": "stream",
     "text": [
      "Sliced string: Hello\n",
      "Concatenated string: Hello world!\n",
      "The strings are equal (ignoring case)\n",
      "The strings are not equal (case-sensitive)\n",
      "Formatted string: My name is John and I am 30 years old\n"
     ]
    }
   ],
   "source": [
    "# Create a string type variable\n",
    "str_var = \"Hello, world!\"\n",
    "\n",
    "# Slicing of strings\n",
    "sliced_str = str_var[0:5]  # Slices the first 5 characters\n",
    "print(\"Sliced string:\", sliced_str)\n",
    "\n",
    "# Concatenation of strings\n",
    "str1 = \"Hello\"\n",
    "str2 = \"world\"\n",
    "concatenated_str = str1 + \" \" + str2 + \"!\"\n",
    "print(\"Concatenated string:\", concatenated_str)\n",
    "\n",
    "# Comparison of strings\n",
    "str3 = \"hello\"\n",
    "if str1.lower() == str3.lower():\n",
    "    print(\"The strings are equal (ignoring case)\")\n",
    "else:\n",
    "    print(\"The strings are not equal (ignoring case)\")\n",
    "\n",
    "if str1 == str3:\n",
    "    print(\"The strings are equal (case-sensitive)\")\n",
    "else:\n",
    "    print(\"The strings are not equal (case-sensitive)\")\n",
    "\n",
    "# Formatting of strings\n",
    "name = \"John\"\n",
    "age = 30\n",
    "formatted_str = \"My name is {} and I am {} years old\".format(name, age)\n",
    "print(\"Formatted string:\", formatted_str)\n"
   ]
  },
  {
   "cell_type": "code",
   "execution_count": 2,
   "id": "cde313f1",
   "metadata": {},
   "outputs": [
    {
     "name": "stdout",
     "output_type": "stream",
     "text": [
      "arg1: 1\n",
      "arg2: 2\n",
      "args: (3, 4, 5)\n",
      "kwargs: {'name': 'John', 'age': 30}\n",
      "\n",
      "arg1: Hello\n",
      "arg2: world\n",
      "args: (1, 2, 3)\n",
      "kwargs: {'key1': 'value1', 'key2': 'value2'}\n",
      "\n",
      "arg1: True\n",
      "arg2: None\n",
      "args: ()\n",
      "kwargs: {}\n",
      "\n"
     ]
    }
   ],
   "source": [
    "# Example function that uses arbitrary arguments, keyword arguments, and arbitrary keyword arguments\n",
    "def my_function(arg1, arg2, *args, **kwargs):\n",
    "    print(\"arg1:\", arg1)\n",
    "    print(\"arg2:\", arg2)\n",
    "    print(\"args:\", args)\n",
    "    print(\"kwargs:\", kwargs)\n",
    "    print()\n",
    "\n",
    "# Call the function with various arguments\n",
    "my_function(1, 2, 3, 4, 5, name=\"John\", age=30)\n",
    "my_function(\"Hello\", \"world\", 1, 2, 3, key1=\"value1\", key2=\"value2\")\n",
    "my_function(True, None)\n",
    "\n"
   ]
  },
  {
   "cell_type": "code",
   "execution_count": null,
   "id": "9a7f8b09",
   "metadata": {},
   "outputs": [],
   "source": []
  }
 ],
 "metadata": {
  "kernelspec": {
   "display_name": "Python 3 (ipykernel)",
   "language": "python",
   "name": "python3"
  },
  "language_info": {
   "codemirror_mode": {
    "name": "ipython",
    "version": 3
   },
   "file_extension": ".py",
   "mimetype": "text/x-python",
   "name": "python",
   "nbconvert_exporter": "python",
   "pygments_lexer": "ipython3",
   "version": "3.9.13"
  }
 },
 "nbformat": 4,
 "nbformat_minor": 5
}
