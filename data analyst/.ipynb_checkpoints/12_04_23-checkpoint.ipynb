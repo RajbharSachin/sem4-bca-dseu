{
 "cells": [
  {
   "cell_type": "code",
   "execution_count": 5,
   "id": "f4e82ad5",
   "metadata": {},
   "outputs": [
    {
     "name": "stdout",
     "output_type": "stream",
     "text": [
      "0       100\n",
      "1       400\n",
      "2    python\n",
      "3      30.4\n",
      "4       200\n",
      "dtype: object\n",
      "2    python\n",
      "1       400\n",
      "3      30.4\n",
      "4       200\n",
      "0       100\n",
      "dtype: object\n"
     ]
    }
   ],
   "source": [
    "#sort a Series in pandas\n",
    "import pandas as pd\n",
    "s=pd.Series(['100','400','python','30.4','200'])\n",
    "print(s)\n",
    "new_s=s.sort_values(ascending=False)\n",
    "print(new_s)"
   ]
  },
  {
   "cell_type": "code",
   "execution_count": 3,
   "id": "33c48a6d",
   "metadata": {},
   "outputs": [
    {
     "name": "stdout",
     "output_type": "stream",
     "text": [
      "Original Dictionary\n",
      "{'Name': ['Rohan', 'Tanya', 'Shivam', 'Sonia'], 'Age': [10, 20, 25, 21]}\n",
      "Converted Series\n",
      "Name    [Rohan, Tanya, Shivam, Sonia]\n",
      "Age                  [10, 20, 25, 21]\n",
      "dtype: object\n"
     ]
    }
   ],
   "source": [
    "#dictioary to pandas series\n",
    "d1={'Name':['Rohan', 'Tanya' , 'Shivam', 'Sonia'], 'Age':[10,20,25,21]}\n",
    "print(\"Original Dictionary\")\n",
    "print(d1)\n",
    "new_series = pd.Series(d1)\n",
    "print(\"Converted Series\")\n",
    "print(new_series)"
   ]
  },
  {
   "cell_type": "code",
   "execution_count": 4,
   "id": "63a8a40e",
   "metadata": {},
   "outputs": [
    {
     "ename": "NameError",
     "evalue": "name 'df1' is not defined",
     "output_type": "error",
     "traceback": [
      "\u001b[1;31m---------------------------------------------------------------------------\u001b[0m",
      "\u001b[1;31mNameError\u001b[0m                                 Traceback (most recent call last)",
      "\u001b[1;32m~\\AppData\\Local\\Temp\\ipykernel_18968\\3676617754.py\u001b[0m in \u001b[0;36m<module>\u001b[1;34m\u001b[0m\n\u001b[1;32m----> 1\u001b[1;33m \u001b[0mdf1\u001b[0m\u001b[1;33m.\u001b[0m\u001b[0mshape\u001b[0m\u001b[1;33m(\u001b[0m\u001b[1;33m)\u001b[0m\u001b[1;33m\u001b[0m\u001b[1;33m\u001b[0m\u001b[0m\n\u001b[0m\u001b[0;32m      2\u001b[0m \u001b[0mdf1\u001b[0m\u001b[1;33m.\u001b[0m\u001b[0minfo\u001b[0m\u001b[1;33m\u001b[0m\u001b[1;33m\u001b[0m\u001b[0m\n\u001b[0;32m      3\u001b[0m \u001b[0mdf1\u001b[0m\u001b[1;33m.\u001b[0m\u001b[0mdescribe\u001b[0m\u001b[1;33m(\u001b[0m\u001b[1;33m)\u001b[0m\u001b[1;33m\u001b[0m\u001b[1;33m\u001b[0m\u001b[0m\n\u001b[0;32m      4\u001b[0m \u001b[0mdf1\u001b[0m\u001b[1;33m.\u001b[0m\u001b[0mcolumns\u001b[0m\u001b[1;33m=\u001b[0m\u001b[1;33m[\u001b[0m\u001b[1;34m'Col1'\u001b[0m\u001b[1;33m,\u001b[0m\u001b[1;34m'Col2'\u001b[0m\u001b[1;33m,\u001b[0m\u001b[1;34m'Col3'\u001b[0m\u001b[1;33m,\u001b[0m\u001b[1;34m'Col4'\u001b[0m\u001b[1;33m]\u001b[0m\u001b[1;33m\u001b[0m\u001b[1;33m\u001b[0m\u001b[0m\n",
      "\u001b[1;31mNameError\u001b[0m: name 'df1' is not defined"
     ]
    }
   ],
   "source": [
    "df1.shape()\n",
    "df1.info\n",
    "df1.describe()\n",
    "df1.columns=['Col1','Col2','Col3','Col4']\n",
    "df1[1]"
   ]
  },
  {
   "cell_type": "code",
   "execution_count": 2,
   "id": "d69ec9c6",
   "metadata": {},
   "outputs": [
    {
     "name": "stdout",
     "output_type": "stream",
     "text": [
      "[1 2 3 4 5]\n",
      "[1, 2, 3, 4, 5]\n"
     ]
    }
   ],
   "source": [
    "import numpy as np\n",
    "# create a NumPy array\n",
    "x = np.array([1, 2, 3, 4, 5])\n",
    "print(x)\n",
    "# convert the array to a list\n",
    "lst = x.tolist()\n",
    "# print the list\n",
    "print(lst)\n"
   ]
  },
  {
   "cell_type": "code",
   "execution_count": 3,
   "id": "5bac7ef4",
   "metadata": {},
   "outputs": [
    {
     "name": "stdout",
     "output_type": "stream",
     "text": [
      "1\n",
      "4\n",
      "9\n",
      "16\n",
      "25\n"
     ]
    }
   ],
   "source": [
    "for i in range(1, 6):\n",
    "    print(i ** 2)\n"
   ]
  },
  {
   "cell_type": "markdown",
   "id": "17f8ad5e",
   "metadata": {},
   "source": [
    "# Heading 1\n",
    "## Heading 2\n",
    "### Heading 3\n",
    "\n",
    "**This text is bold.** *This text is italic.*\n",
    "\n",
    "- Item 1\n",
    "- Item 2\n",
    "- Item 3\n",
    "\n",
    "1. First item\n",
    "2. Second item\n",
    "3. Third item\n",
    "\n",
    "[Click here to go to Google](https://www.google.com)\n",
    "\n",
    "| Name | Age | Gender |\n",
    "|------|-----|--------|\n",
    "| John | 30  | Male   |\n",
    "| Jane | 25  | Female |\n",
    "\n",
    "![Create](Save013.jpeg)\n",
    "\n"
   ]
  },
  {
   "cell_type": "code",
   "execution_count": null,
   "id": "bedf4e0d",
   "metadata": {},
   "outputs": [
    {
     "name": "stdout",
     "output_type": "stream",
     "text": [
      "\n",
      "Welcome to Python 3.9's help utility!\n",
      "\n",
      "If this is your first time using Python, you should definitely check out\n",
      "the tutorial on the Internet at https://docs.python.org/3.9/tutorial/.\n",
      "\n",
      "Enter the name of any module, keyword, or topic to get help on writing\n",
      "Python programs and using Python modules.  To quit this help utility and\n",
      "return to the interpreter, just type \"quit\".\n",
      "\n",
      "To get a list of available modules, keywords, symbols, or topics, type\n",
      "\"modules\", \"keywords\", \"symbols\", or \"topics\".  Each module also comes\n",
      "with a one-line summary of what it does; to list the modules whose name\n",
      "or summary contain a given string such as \"spam\", type \"modules spam\".\n",
      "\n"
     ]
    }
   ],
   "source": [
    "# enter help mode\n",
    "help()\n",
    "\n",
    "# display help information for the list type\n",
    "help(list)\n",
    "\n",
    "# exit help mode\n",
    "quit()\n"
   ]
  },
  {
   "cell_type": "code",
   "execution_count": null,
   "id": "273d0a2f",
   "metadata": {},
   "outputs": [],
   "source": [
    "# With autocall set to 1, parentheses are optional for function calls\n",
    "%autocall 1\n",
    "# This function call doesn't require parentheses\n",
    "print \"Hello world!\""
   ]
  },
  {
   "cell_type": "code",
   "execution_count": null,
   "id": "ccab56c6",
   "metadata": {},
   "outputs": [],
   "source": [
    "# Change to a different directory\n",
    "%cd /path/to/directory"
   ]
  },
  {
   "cell_type": "code",
   "execution_count": null,
   "id": "7f6ccd07",
   "metadata": {},
   "outputs": [],
   "source": [
    "# With automagic on, you don't need to prefix magics with %\n",
    "%automagic on\n",
    "# This cell will execute as if you typed %pwd\n",
    "pwd"
   ]
  },
  {
   "cell_type": "code",
   "execution_count": null,
   "id": "b16e0123",
   "metadata": {},
   "outputs": [],
   "source": [
    "# Display the history of commands entered in the current session\n",
    "%dhist"
   ]
  },
  {
   "cell_type": "code",
   "execution_count": null,
   "id": "1f3263f6",
   "metadata": {},
   "outputs": [],
   "source": [
    "# Set an environment variable\n",
    "%env MYVAR=hello\n",
    "# Access the environment variable\n",
    "print(os.environ['MYVAR'])\n"
   ]
  },
  {
   "cell_type": "code",
   "execution_count": null,
   "id": "bdc6a782",
   "metadata": {},
   "outputs": [],
   "source": [
    "# List all available magics\n",
    "%lsmagic"
   ]
  },
  {
   "cell_type": "code",
   "execution_count": null,
   "id": "3ee7dff4",
   "metadata": {},
   "outputs": [],
   "source": [
    "# List all available backends for matplotlib\n",
    "%matplotlib -list"
   ]
  },
  {
   "cell_type": "code",
   "execution_count": null,
   "id": "a9e472eb",
   "metadata": {},
   "outputs": [],
   "source": [
    "# Define some variables\n",
    "x = 5\n",
    "y = 'hello'\n",
    "z = [1, 2, 3]\n",
    "# List all defined variables\n",
    "%who"
   ]
  },
  {
   "cell_type": "code",
   "execution_count": null,
   "id": "88a8783f",
   "metadata": {},
   "outputs": [],
   "source": [
    "# Display the current working directory\n",
    "%pwd"
   ]
  },
  {
   "cell_type": "code",
   "execution_count": null,
   "id": "28d6856d",
   "metadata": {},
   "outputs": [],
   "source": [
    "# Convert the current notebook to a standalone executable script\n",
    "%notebook myscript.py"
   ]
  },
  {
   "cell_type": "code",
   "execution_count": null,
   "id": "239732d0",
   "metadata": {},
   "outputs": [],
   "source": [
    "# Run a Python script in the current namespace\n",
    "%run myscript.py"
   ]
  },
  {
   "cell_type": "code",
   "execution_count": null,
   "id": "fae3179f",
   "metadata": {},
   "outputs": [],
   "source": [
    "import numpy as np\n",
    "# Create a NumPy array and a list\n",
    "arr = np.arange(1000000)\n",
    "lst = list(range(1000000))\n",
    "# Time the execution of summing the array and the list\n",
    "%time arr_sum = np.sum(arr)\n",
    "%time lst_sum = sum(lst)"
   ]
  },
  {
   "cell_type": "code",
   "execution_count": null,
   "id": "6de9539e",
   "metadata": {},
   "outputs": [],
   "source": [
    "# Load code from a file into a code cell\n",
    "%load myscript.py"
   ]
  },
  {
   "cell_type": "code",
   "execution_count": null,
   "id": "231875b4",
   "metadata": {},
   "outputs": [],
   "source": [
    "# Display a quick reference guide for Jupyter Notebook\n",
    "%quickref"
   ]
  },
  {
   "cell_type": "code",
   "execution_count": null,
   "id": "f468c208",
   "metadata": {},
   "outputs": [],
   "source": [
    "# Display the docstring for a function\n",
    "%pdoc numpy.arange"
   ]
  },
  {
   "cell_type": "code",
   "execution_count": 2,
   "id": "686d574d",
   "metadata": {},
   "outputs": [
    {
     "name": "stdout",
     "output_type": "stream",
     "text": [
      "Defaulting to user installation because normal site-packages is not writeable\n",
      "Requirement already satisfied: matplotlib in c:\\programdata\\anaconda3\\lib\\site-packages (3.5.2)\n",
      "Requirement already satisfied: python-dateutil>=2.7 in c:\\programdata\\anaconda3\\lib\\site-packages (from matplotlib) (2.8.2)\n",
      "Requirement already satisfied: kiwisolver>=1.0.1 in c:\\programdata\\anaconda3\\lib\\site-packages (from matplotlib) (1.4.2)\n",
      "Requirement already satisfied: pillow>=6.2.0 in c:\\programdata\\anaconda3\\lib\\site-packages (from matplotlib) (9.2.0)\n",
      "Requirement already satisfied: fonttools>=4.22.0 in c:\\programdata\\anaconda3\\lib\\site-packages (from matplotlib) (4.25.0)\n",
      "Requirement already satisfied: packaging>=20.0 in c:\\programdata\\anaconda3\\lib\\site-packages (from matplotlib) (21.3)\n",
      "Requirement already satisfied: cycler>=0.10 in c:\\programdata\\anaconda3\\lib\\site-packages (from matplotlib) (0.11.0)\n",
      "Requirement already satisfied: numpy>=1.17 in c:\\programdata\\anaconda3\\lib\\site-packages (from matplotlib) (1.21.5)\n",
      "Requirement already satisfied: pyparsing>=2.2.1 in c:\\programdata\\anaconda3\\lib\\site-packages (from matplotlib) (3.0.9)\n",
      "Requirement already satisfied: six>=1.5 in c:\\programdata\\anaconda3\\lib\\site-packages (from python-dateutil>=2.7->matplotlib) (1.16.0)\n",
      "3.5.2\n"
     ]
    }
   ],
   "source": [
    "!pip install matplotlib\n",
    "import matplotlib\n",
    "print(matplotlib.__version__)"
   ]
  },
  {
   "cell_type": "code",
   "execution_count": 3,
   "id": "df2cc79f",
   "metadata": {},
   "outputs": [
    {
     "data": {
      "image/png": "[encoded data removed]",
      "text/plain": [
       "<Figure size 640x480 with 1 Axes>"
      ]
     },
     "metadata": {},
     "output_type": "display_data"
    }
   ],
   "source": [
    "import matplotlib.pyplot as plt\n",
    "# Define the data to plot\n",
    "x = [1, 2, 3]\n",
    "y = [2, 5, 7]\n",
    "# Plot the data\n",
    "plt.plot(x, y)\n",
    "# Add a title and labels\n",
    "plt.title(\"My Plot\")\n",
    "plt.xlabel(\"X axis label\")\n",
    "plt.ylabel(\"Y axis label\")\n",
    "# Show the plot\n",
    "plt.show()"
   ]
  },
  {
   "cell_type": "code",
   "execution_count": 4,
   "id": "e9372593",
   "metadata": {},
   "outputs": [
    {
     "data": {
      "image/png": "[encoded data removed]",
      "text/plain": [
       "<Figure size 640x480 with 1 Axes>"
      ]
     },
     "metadata": {},
     "output_type": "display_data"
    }
   ],
   "source": [
    "# Define the data for the two lines\n",
    "x = [1, 2, 3]\n",
    "y1 = [2, 5, 7]\n",
    "y2 = [3, 4, 6]\n",
    "# Plot the two lines\n",
    "plt.plot(x, y1, label='Line 1', linewidth=2)\n",
    "plt.plot(x, y2, label='Line 2', linewidth=4)\n",
    "# Add a title and labels\n",
    "plt.title(\"Comparison of two lines\")\n",
    "plt.xlabel(\"X axis label\")\n",
    "plt.ylabel(\"Y axis label\")\n",
    "# Add a legend\n",
    "plt.legend()\n",
    "# Show the plot\n",
    "plt.show()"
   ]
  },
  {
   "cell_type": "code",
   "execution_count": 5,
   "id": "e769df8d",
   "metadata": {},
   "outputs": [
    {
     "data": {
      "image/png": "[encoded data removed]",
      "text/plain": [
       "<Figure size 640x480 with 1 Axes>"
      ]
     },
     "metadata": {},
     "output_type": "display_data"
    }
   ],
   "source": [
    "# Define the data for the pie chart\n",
    "labels = ['Apples', 'Oranges', 'Bananas']\n",
    "sizes = [30, 40, 20]\n",
    "# Plot the pie chart\n",
    "plt.pie(sizes, labels=labels)\n",
    "# Add a title\n",
    "plt.title(\"My Pie Chart\")\n",
    "# Show the plot\n",
    "plt.show()"
   ]
  },
  {
   "cell_type": "code",
   "execution_count": null,
   "id": "560e5ab5",
   "metadata": {},
   "outputs": [],
   "source": [
    "!pip install pandas\n",
    "import pandas as pd\n",
    "print(pd.__version__)"
   ]
  },
  {
   "cell_type": "code",
   "execution_count": null,
   "id": "c38ff07b",
   "metadata": {},
   "outputs": [],
   "source": [
    "import pandas as pd\n",
    "\n",
    "# Creating a Series using a list\n",
    "fruits = pd.Series(['Apple', 'Banana', 'Cherry', 'Dates'])\n",
    "\n",
    "# Printing the Series\n",
    "print(fruits)\n",
    "\n",
    "# Adding our own labels to the Series\n",
    "fruits = pd.Series(['Apple', 'Banana', 'Cherry', 'Dates'], index=['a', 'b', 'c', 'd'])\n",
    "print(fruits)\n"
   ]
  },
  {
   "cell_type": "code",
   "execution_count": null,
   "id": "8b4f6786",
   "metadata": {},
   "outputs": [],
   "source": [
    "import pandas as pd\n",
    "\n",
    "# Creating a Series using a list\n",
    "fruits = pd.Series(['Apple', 'Banana', 'Cherry', 'Dates'])\n",
    "\n",
    "# Sorting the Series\n",
    "sorted_fruits = fruits.sort_values()\n",
    "\n",
    "# Printing the sorted Series\n",
    "print(sorted_fruits)\n"
   ]
  },
  {
   "cell_type": "code",
   "execution_count": 14,
   "id": "d607cb37",
   "metadata": {},
   "outputs": [
    {
     "name": "stdout",
     "output_type": "stream",
     "text": [
      "      Name  Age\n",
      "0    Alice   25\n",
      "1      Bob   30\n",
      "2  Charlie   35\n",
      "3    David   40\n"
     ]
    }
   ],
   "source": [
    "import pandas as pd\n",
    "\n",
    "# Creating a DataFrame using a list\n",
    "data = [['Alice', 25], ['Bob', 30], ['Charlie', 35], ['David', 40]]\n",
    "df = pd.DataFrame(data, columns=['Name', 'Age'])\n",
    "\n",
    "# Printing the DataFrame\n",
    "print(df)\n"
   ]
  },
  {
   "cell_type": "code",
   "execution_count": 13,
   "id": "70dc4088",
   "metadata": {},
   "outputs": [
    {
     "name": "stdout",
     "output_type": "stream",
     "text": [
      "Index(['day1', 'day2', 'day3'], dtype='object')\n",
      "Index(['calories', 'duration'], dtype='object')\n"
     ]
    }
   ],
   "source": [
    "import pandas as pd\n",
    "\n",
    "# Creating two Series\n",
    "calories = pd.Series([420, 380, 390], index=['day1', 'day2', 'day3'])\n",
    "duration = pd.Series([50, 40, 45], index=['day1', 'day2', 'day3'])\n",
    "\n",
    "# Creating a DataFrame from the two Series\n",
    "df = pd.DataFrame({'calories': calories, 'duration': duration})\n",
    "\n",
    "# Adding our own labels to the DataFrame\n",
    "df.index = ['day1', 'day2', 'day3']\n",
    "\n",
    "# Printing only index and columns in this DataFrame\n",
    "print(df.index)\n",
    "print(df.columns)\n"
   ]
  },
  {
   "cell_type": "code",
   "execution_count": 12,
   "id": "b5e4df8e",
   "metadata": {},
   "outputs": [
    {
     "name": "stdout",
     "output_type": "stream",
     "text": [
      "apple     2\n",
      "banana    3\n",
      "cherry    4\n",
      "dtype: int64\n"
     ]
    }
   ],
   "source": [
    "import pandas as pd\n",
    "\n",
    "# Creating a dictionary\n",
    "data = {'apple': 2, 'banana': 3, 'cherry': 4}\n",
    "\n",
    "# Converting the dictionary to a Series\n",
    "fruits = pd.Series(data)\n",
    "\n",
    "# Printing the Series\n",
    "print(fruits)\n"
   ]
  },
  {
   "cell_type": "code",
   "execution_count": 11,
   "id": "422d4b03",
   "metadata": {},
   "outputs": [
    {
     "name": "stdout",
     "output_type": "stream",
     "text": [
      "      Name  Age Gender           City\n",
      "0     John   25      M       New York\n",
      "1    Alice   30      F          Paris\n",
      "2      Bob   20      M         London\n",
      "3  Charlie   35      M  San Francisco\n",
      "      Name  Age Gender           City\n",
      "0     John   25      M       New York\n",
      "1    Alice   30      F          Paris\n",
      "2      Bob   20      M         London\n",
      "3  Charlie   35      M  San Francisco\n",
      "(4, 4)\n",
      "<class 'pandas.core.frame.DataFrame'>\n",
      "RangeIndex: 4 entries, 0 to 3\n",
      "Data columns (total 4 columns):\n",
      " #   Column    Non-Null Count  Dtype \n",
      "---  ------    --------------  ----- \n",
      " 0   Name      4 non-null      object\n",
      " 1   Age       4 non-null      int64 \n",
      " 2   Gender    4 non-null      object\n",
      " 3   Location  4 non-null      object\n",
      "dtypes: int64(1), object(3)\n",
      "memory usage: 256.0+ bytes\n",
      "None\n",
      "RangeIndex(start=0, stop=4, step=1)\n",
      "             Age\n",
      "count   4.000000\n",
      "mean   27.500000\n",
      "std     6.454972\n",
      "min    20.000000\n",
      "25%    23.750000\n",
      "50%    27.500000\n",
      "75%    31.250000\n",
      "max    35.000000\n",
      "0    25\n",
      "1    30\n",
      "2    20\n",
      "3    35\n",
      "Name: Age, dtype: int64\n",
      "Alice\n",
      "   Name  Location\n",
      "0  John  New York\n",
      "2   Bob    London\n",
      "      Name  Age       Location\n",
      "0     John   25       New York\n",
      "1    Alice   30          Paris\n",
      "2      Bob   20         London\n",
      "3  Charlie   35  San Francisco\n"
     ]
    }
   ],
   "source": [
    "import pandas as pd\n",
    "\n",
    "# create a dictionary with some data\n",
    "data = {'Name': ['John', 'Alice', 'Bob', 'Charlie'],\n",
    "        'Age': [25, 30, 20, 35],\n",
    "        'Gender': ['M', 'F', 'M', 'M'],\n",
    "        'City': ['New York', 'Paris', 'London', 'San Francisco']}\n",
    "\n",
    "# create a DataFrame from the dictionary\n",
    "df = pd.DataFrame(data)\n",
    "\n",
    "# print the first 5 rows of the DataFrame\n",
    "print(df.head())\n",
    "\n",
    "# print the last 5 rows of the DataFrame\n",
    "print(df.tail())\n",
    "\n",
    "# rename the 'City' column to 'Location'\n",
    "df.rename(columns={'City': 'Location'}, inplace=True)\n",
    "\n",
    "# print the shape of the DataFrame\n",
    "print(df.shape)\n",
    "\n",
    "# print information about the DataFrame\n",
    "print(df.info())\n",
    "\n",
    "# print the index of the DataFrame\n",
    "print(df.index)\n",
    "\n",
    "# print the description of the DataFrame\n",
    "print(df.describe())\n",
    "\n",
    "# filter out only the 'Age' column\n",
    "age_col = df['Age']\n",
    "print(age_col)\n",
    "\n",
    "# slice out one element from the DataFrame\n",
    "elem = df.loc[1, 'Name']\n",
    "print(elem)\n",
    "\n",
    "# slice out specific rows and columns from the DataFrame\n",
    "slice_df = df.loc[[0, 2], ['Name', 'Location']]\n",
    "print(slice_df)\n",
    "\n",
    "# drop the 'Gender' column from the DataFrame\n",
    "df.drop(columns=['Gender'], inplace=True)\n",
    "print(df)\n"
   ]
  },
  {
   "cell_type": "code",
   "execution_count": 9,
   "id": "6a9a31d5",
   "metadata": {},
   "outputs": [
    {
     "name": "stdout",
     "output_type": "stream",
     "text": [
      "Left merge:\n",
      "     Name Country Role   ID\n",
      "0  Pankaj   India  CEO  1.0\n",
      "1  Meghna   India  CTO  NaN\n",
      "2    Lisa     USA  CTO  NaN\n",
      "\n",
      "Right merge:\n",
      "     Name Country Role  ID\n",
      "0  Pankaj   India  CEO   1\n",
      "1  Anupam     NaN  NaN   2\n",
      "2    Amit     NaN  NaN   3\n",
      "\n",
      "Inner merge:\n",
      "     Name Country Role  ID\n",
      "0  Pankaj   India  CEO   1\n",
      "\n",
      "Outer merge:\n",
      "     Name Country Role   ID\n",
      "0  Pankaj   India  CEO  1.0\n",
      "1  Meghna   India  CTO  NaN\n",
      "2    Lisa     USA  CTO  NaN\n",
      "3  Anupam     NaN  NaN  2.0\n",
      "4    Amit     NaN  NaN  3.0\n"
     ]
    }
   ],
   "source": [
    "import pandas as pd\n",
    "\n",
    "d1 = {'Name': ['Pankaj', 'Meghna', 'Lisa'], 'Country': ['India', 'India', 'USA'], 'Role': ['CEO', 'CTO', 'CTO']}\n",
    "d2 = {'ID': [1, 2, 3], 'Name': ['Pankaj', 'Anupam', 'Amit']}\n",
    "\n",
    "# create dataframes from dictionaries\n",
    "df1 = pd.DataFrame(d1)\n",
    "df2 = pd.DataFrame(d2)\n",
    "\n",
    "# merge dataframes\n",
    "# left merge\n",
    "df_left = pd.merge(df1, df2, on='Name', how='left')\n",
    "print(\"Left merge:\")\n",
    "print(df_left)\n",
    "\n",
    "# right merge\n",
    "df_right = pd.merge(df1, df2, on='Name', how='right')\n",
    "print(\"\\nRight merge:\")\n",
    "print(df_right)\n",
    "\n",
    "# inner merge\n",
    "df_inner = pd.merge(df1, df2, on='Name', how='inner')\n",
    "print(\"\\nInner merge:\")\n",
    "print(df_inner)\n",
    "\n",
    "# outer merge\n",
    "df_outer = pd.merge(df1, df2, on='Name', how='outer')\n",
    "print(\"\\nOuter merge:\")\n",
    "print(df_outer)\n"
   ]
  },
  {
   "cell_type": "code",
   "execution_count": 8,
   "id": "1c9cccf0",
   "metadata": {},
   "outputs": [
    {
     "name": "stdout",
     "output_type": "stream",
     "text": [
      "     Name  Age    Address Qualification\n",
      "0     Jai   27     Nagpur           Msc\n",
      "1  Princi   24     Kanpur            MA\n",
      "2  Gaurav   22  Allahabad           MCA\n",
      "3    Anuj   32    Kannuaj           Phd\n",
      "0    Abhi   17     Nagpur         Btech\n",
      "1  Ayushi   14     Kanpur           B.A\n",
      "2  Dhiraj   12  Allahabad          Bcom\n",
      "3  Hitesh   52    Kannuaj        B.hons\n"
     ]
    }
   ],
   "source": [
    "import pandas as pd\n",
    "\n",
    "d1 = {'Name': ['Jai', 'Princi', 'Gaurav', 'Anuj'], 'Age': [27, 24, 22, 32], 'Address': ['Nagpur', 'Kanpur', 'Allahabad', 'Kannuaj'], 'Qualification': ['Msc', 'MA', 'MCA', 'Phd']}\n",
    "d2 = {'Name': ['Abhi', 'Ayushi', 'Dhiraj', 'Hitesh'], 'Age': [17, 14, 12, 52], 'Address': ['Nagpur', 'Kanpur', 'Allahabad', 'Kannuaj'], 'Qualification': ['Btech', 'B.A', 'Bcom', 'B.hons']}\n",
    "\n",
    "df1 = pd.DataFrame(d1)\n",
    "df2 = pd.DataFrame(d2)\n",
    "\n",
    "df_concatenated = pd.concat([df1, df2])\n",
    "\n",
    "print(df_concatenated)\n"
   ]
  },
  {
   "cell_type": "code",
   "execution_count": 7,
   "id": "698aaaa9",
   "metadata": {},
   "outputs": [
    {
     "name": "stdout",
     "output_type": "stream",
     "text": [
      "[['John' 25 'New York']\n",
      " ['Emily' 27 'Paris']\n",
      " ['Michael' 30 'London']\n",
      " ['Jessica' 22 'Los Angeles']]\n",
      "      Name  Age         City\n",
      "0     John   25     New York\n",
      "1    Emily   27        Paris\n",
      "2  Michael   30       London\n",
      "3  Jessica   22  Los Angeles\n"
     ]
    }
   ],
   "source": [
    "import pandas as pd\n",
    "\n",
    "# Load the csv file\n",
    "df = pd.read_csv('df_to_file.csv')\n",
    "\n",
    "# Display the values\n",
    "print(df.values)\n",
    "\n",
    "# Display the DataFrame\n",
    "print(df)\n"
   ]
  },
  {
   "cell_type": "code",
   "execution_count": 6,
   "id": "3e049a78",
   "metadata": {},
   "outputs": [
    {
     "name": "stdout",
     "output_type": "stream",
     "text": [
      "      Name  Age         City\n",
      "0     John   25     New York\n",
      "1    Emily   27        Paris\n",
      "2  Michael   30       London\n",
      "3  Jessica   22  Los Angeles\n"
     ]
    }
   ],
   "source": [
    "import pandas as pd\n",
    "\n",
    "# create a sample DataFrame\n",
    "data = {\n",
    "    'Name': ['John', 'Emily', 'Michael', 'Jessica'],\n",
    "    'Age': [25, 27, 30, 22],\n",
    "    'City': ['New York', 'Paris', 'London', 'Los Angeles']\n",
    "}\n",
    "df = pd.DataFrame(data)\n",
    "\n",
    "# print the DataFrame\n",
    "print(df)\n",
    "\n",
    "# save the DataFrame to a CSV file\n",
    "df.to_csv('df_to_file.csv', index=False)\n"
   ]
  },
  {
   "cell_type": "code",
   "execution_count": null,
   "id": "fc4786ee",
   "metadata": {},
   "outputs": [],
   "source": []
  }
 ],
 "metadata": {
  "kernelspec": {
   "display_name": "Python 3 (ipykernel)",
   "language": "python",
   "name": "python3"
  },
  "language_info": {
   "codemirror_mode": {
    "name": "ipython",
    "version": 3
   },
   "file_extension": ".py",
   "mimetype": "text/x-python",
   "name": "python",
   "nbconvert_exporter": "python",
   "pygments_lexer": "ipython3",
   "version": "3.9.13"
  }
 },
 "nbformat": 4,
 "nbformat_minor": 5
}
