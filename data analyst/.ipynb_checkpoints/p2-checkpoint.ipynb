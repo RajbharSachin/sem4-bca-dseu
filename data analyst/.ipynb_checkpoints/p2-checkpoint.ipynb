{
 "cells": [
  {
   "cell_type": "code",
   "execution_count": 2,
   "id": "327b60ee",
   "metadata": {},
   "outputs": [],
   "source": [
    "import numpy as np"
   ]
  },
  {
   "cell_type": "code",
   "execution_count": 3,
   "id": "b6016c0c",
   "metadata": {},
   "outputs": [
    {
     "name": "stdout",
     "output_type": "stream",
     "text": [
      "int8\n",
      "4\n",
      "7\n",
      "51\n"
     ]
    }
   ],
   "source": [
    "myarray = np.array([[3,6,777779,7]],np.int8)\n",
    "print(myarray.dtype)\n",
    "print(myarray.size)\n",
    "print(myarray[0,3])\n",
    "print(myarray[0,2]) # garbage value bcoz not in range of int"
   ]
  },
  {
   "cell_type": "code",
   "execution_count": 78,
   "id": "1e5a9de0",
   "metadata": {},
   "outputs": [
    {
     "name": "stdout",
     "output_type": "stream",
     "text": [
      "(3, 3)\n",
      "int32\n",
      "9\n"
     ]
    }
   ],
   "source": [
    "la = np.array([[1,2,3],[4,5,6],[7,8,9]])\n",
    "print(la.shape)\n",
    "print(la.dtype)\n",
    "print(la.size)"
   ]
  },
  {
   "cell_type": "code",
   "execution_count": 13,
   "id": "301ee083",
   "metadata": {},
   "outputs": [
    {
     "name": "stdout",
     "output_type": "stream",
     "text": [
      "{34, 23}\n",
      "object\n"
     ]
    }
   ],
   "source": [
    "ar = np.array({34,23,34,23})\n",
    "print(ar)\n",
    "print(ar.dtype)"
   ]
  },
  {
   "cell_type": "code",
   "execution_count": 20,
   "id": "b17028ef",
   "metadata": {},
   "outputs": [
    {
     "name": "stdout",
     "output_type": "stream",
     "text": [
      "(2, 6, 4)\n",
      "float64\n",
      "48\n"
     ]
    }
   ],
   "source": [
    "zer = np.zeros((2,6,4))\n",
    "print(zer.shape)\n",
    "print(zer.dtype)\n",
    "print(zer.size) # size is two matrix of 6*4"
   ]
  },
  {
   "cell_type": "code",
   "execution_count": 23,
   "id": "64abe7ce",
   "metadata": {},
   "outputs": [
    {
     "name": "stdout",
     "output_type": "stream",
     "text": [
      "[[6.23042070e-307 3.56043053e-307 1.60219306e-306 7.56571288e-307\n",
      "  1.89146896e-307 1.37961302e-306]\n",
      " [1.05699242e-307 8.01097889e-307 1.78020169e-306 7.56601165e-307\n",
      "  1.02359984e-306 1.33510679e-306]\n",
      " [2.22522597e-306 1.33511018e-306 6.23057689e-307 1.86921279e-306\n",
      "  8.90098127e-307 1.78020848e-306]\n",
      " [1.60219035e-306 1.42418172e-306 2.04712906e-306 7.56589622e-307\n",
      "  1.11258277e-307 8.90111708e-307]]\n",
      "\n",
      " [-5.20324587e+233  1.12610016e-145]\n"
     ]
    }
   ],
   "source": [
    "emp = np.empty((4,6))\n",
    "print(emp)\n",
    "e = np.empty(2)\n",
    "print(\"\\n\",e)"
   ]
  },
  {
   "cell_type": "code",
   "execution_count": 31,
   "id": "74ea4f1b",
   "metadata": {},
   "outputs": [
    {
     "name": "stdout",
     "output_type": "stream",
     "text": [
      "[[[9.64968660e-312 9.64934319e-312 2.04549768e-312 0.00000000e+000]\n",
      "  [1.69484279e-319 2.04549768e-312 0.00000000e+000 9.64970247e-312]\n",
      "  [0.00000000e+000 0.00000000e+000 0.00000000e+000 9.64957066e-312]\n",
      "  [0.00000000e+000 2.96439388e-323 6.95311300e-310 2.02369289e-320]\n",
      "  [2.96439388e-323 6.95311300e-310 9.88131292e-324 0.00000000e+000]\n",
      "  [0.00000000e+000 6.47581723e-319 0.00000000e+000             nan]]\n",
      "\n",
      " [[0.00000000e+000 3.56043053e-307 1.60219306e-306 7.56571288e-307]\n",
      "  [1.89146896e-307 1.37961302e-306 1.05699242e-307 8.01097889e-307]\n",
      "  [1.78020169e-306 7.56601165e-307 1.02359984e-306 1.33510679e-306]\n",
      "  [2.22522597e-306 1.78019761e-306 1.37962185e-306 1.78019625e-306]\n",
      "  [6.89812281e-307 9.34609790e-307 1.24610723e-306 1.05700515e-307]\n",
      "  [1.11261774e-306 1.29060871e-306 8.34424766e-308 2.12203497e-312]]]\n"
     ]
    }
   ],
   "source": [
    "emp = np.empty_like(zer)\n",
    "print(emp)"
   ]
  },
  {
   "cell_type": "code",
   "execution_count": 30,
   "id": "9c8a5a15",
   "metadata": {},
   "outputs": [
    {
     "name": "stdout",
     "output_type": "stream",
     "text": [
      "(40, 40)\n",
      "float64\n",
      "1600\n"
     ]
    }
   ],
   "source": [
    "ide = np.identity(40)\n",
    "print(ide.shape)\n",
    "print(ide.dtype)\n",
    "print(ide.size)"
   ]
  },
  {
   "cell_type": "code",
   "execution_count": 44,
   "id": "fe560053",
   "metadata": {},
   "outputs": [
    {
     "name": "stdout",
     "output_type": "stream",
     "text": [
      "[ 0  1  2  3  4  5  6  7  8  9 10 11 12 13 14 15 16 17 18 19 20 21 22 23\n",
      " 24 25 26 27 28 29 30 31 32 33 34 35 36 37 38 39 40 41 42 43 44 45 46 47\n",
      " 48 49 50 51 52 53 54 55 56 57 58 59 60 61 62 63 64 65 66 67 68 69 70 71\n",
      " 72 73 74 75 76 77 78 79 80 81 82 83 84 85 86 87 88 89 90 91 92 93 94 95\n",
      " 96 97 98]\n",
      "\n",
      " [[ 0  1  2  3  4  5  6  7  8  9 10 11 12 13 14 15 16 17 18 19 20 21 22 23\n",
      "  24 25 26 27 28 29 30 31 32]\n",
      " [33 34 35 36 37 38 39 40 41 42 43 44 45 46 47 48 49 50 51 52 53 54 55 56\n",
      "  57 58 59 60 61 62 63 64 65]\n",
      " [66 67 68 69 70 71 72 73 74 75 76 77 78 79 80 81 82 83 84 85 86 87 88 89\n",
      "  90 91 92 93 94 95 96 97 98]]\n",
      "\n",
      " [ 0  1  2  3  4  5  6  7  8  9 10 11 12 13 14 15 16 17 18 19 20 21 22 23\n",
      " 24 25 26 27 28 29 30 31 32 33 34 35 36 37 38 39 40 41 42 43 44 45 46 47\n",
      " 48 49 50 51 52 53 54 55 56 57 58 59 60 61 62 63 64 65 66 67 68 69 70 71\n",
      " 72 73 74 75 76 77 78 79 80 81 82 83 84 85 86 87 88 89 90 91 92 93 94 95\n",
      " 96 97 98]\n"
     ]
    }
   ],
   "source": [
    "x = np.arange(99) # o to n-1 elements\n",
    "print(x)\n",
    "y = np.reshape(x,(3,33))\n",
    "print(\"\\n\",y)\n",
    "z = np.ravel(y)\n",
    "print(\"\\n\",z)"
   ]
  },
  {
   "cell_type": "code",
   "execution_count": 46,
   "id": "dd0d8d7d",
   "metadata": {},
   "outputs": [
    {
     "name": "stdout",
     "output_type": "stream",
     "text": [
      "Sum of arr(axis = 0) :  [12 15 16]\n",
      "Sum of arr(axis = 1) :  [ 6 15 22]\n"
     ]
    }
   ],
   "source": [
    "arraxis = np.array([[1,2,3],[4,5,6],[7,8,7]])\n",
    "print(\"Sum of arr(axis = 0) : \", np.sum(arraxis, axis = 0)) #0 is column\n",
    "print(\"Sum of arr(axis = 1) : \", np.sum(arraxis, axis = 1)) #1 is row"
   ]
  },
  {
   "cell_type": "code",
   "execution_count": 81,
   "id": "698ae646",
   "metadata": {},
   "outputs": [
    {
     "name": "stdout",
     "output_type": "stream",
     "text": [
      "[[1 2 3]\n",
      " [4 5 6]\n",
      " [7 8 9]]\n",
      "\n",
      " [[1 4 7]\n",
      " [2 5 8]\n",
      " [3 6 9]]\n",
      "\n",
      " <numpy.flatiter object at 0x000001C6BF0248C0>\n",
      "1 2 3 4 5 6 7 8 9 "
     ]
    }
   ],
   "source": [
    "ar = np.array([[1,2,3],[4,5,6],[7,8,9]])\n",
    "print(ar)\n",
    "print(\"\\n\",ar.T)\n",
    "x=ar.flat\n",
    "print(\"\\n\",x)\n",
    "for i in x:\n",
    "    print(i,end=\" \")"
   ]
  },
  {
   "cell_type": "code",
   "execution_count": 88,
   "id": "e302d01a",
   "metadata": {},
   "outputs": [
    {
     "name": "stdout",
     "output_type": "stream",
     "text": [
      "2\n",
      "9\n",
      "4\n",
      "int32\n",
      "36\n"
     ]
    }
   ],
   "source": [
    "ar = np.array([[1,2,3],[4,5,6],[7,8,9]])\n",
    "print(ar.ndim)\n",
    "print(ar.size)\n",
    "print(ar.itemsize)\n",
    "print(ar.dtype)\n",
    "print(ar.nbytes)"
   ]
  },
  {
   "cell_type": "code",
   "execution_count": 5,
   "id": "8c41c341",
   "metadata": {
    "scrolled": true
   },
   "outputs": [
    {
     "name": "stdout",
     "output_type": "stream",
     "text": [
      "3\n",
      "0\n",
      "[0 4 1 2 3]\n"
     ]
    }
   ],
   "source": [
    "ar=np.array([1,3,4,634,2])\n",
    "print(ar.argmax())\n",
    "print(ar.argmin())\n",
    "print(ar.argsort())\n"
   ]
  },
  {
   "cell_type": "code",
   "execution_count": 9,
   "id": "cc680868",
   "metadata": {},
   "outputs": [
    {
     "name": "stdout",
     "output_type": "stream",
     "text": [
      "8\n",
      "0\n",
      "[[0 1 2]\n",
      " [0 1 2]\n",
      " [0 1 2]]\n",
      "\n",
      "\n",
      "7\n",
      "2\n",
      "[[2 1 0]\n",
      " [1 0 2]\n",
      " [0 2 1]]\n"
     ]
    }
   ],
   "source": [
    "vikas=np.array([[1,2,3],[4,5,6],[7,8,9]])\n",
    "argu=np.array([[6,3,1],[5,4,6],[7,9,8]])\n",
    "print(vikas.argmax())\n",
    "print(vikas.argmin())\n",
    "print(vikas.argsort())\n",
    "print(\"\\n\")\n",
    "print(argu.argmax())\n",
    "print(argu.argmin())\n",
    "print(argu.argsort())"
   ]
  },
  {
   "cell_type": "code",
   "execution_count": 11,
   "id": "4f6c2b4d",
   "metadata": {},
   "outputs": [
    {
     "name": "stdout",
     "output_type": "stream",
     "text": [
      "[2 2 2]\n",
      "[1 0 0]\n",
      "[0 2 1]\n",
      "[2 1 0]\n"
     ]
    }
   ],
   "source": [
    "#axis-wise:\n",
    "\n",
    "#axis=0 Means colum-wise all\n",
    "print(argu.argmax(axis=0))\n",
    "print(argu.argmin(axis=0))\n",
    "\n",
    "#axis=1 Means row-wise all\n",
    "print(argu.argmax(axis=1))\n",
    "print(argu.argmin(axis=1))\n",
    "\n"
   ]
  },
  {
   "cell_type": "code",
   "execution_count": 12,
   "id": "75e2ded2",
   "metadata": {},
   "outputs": [],
   "source": [
    "import math as mt"
   ]
  },
  {
   "cell_type": "code",
   "execution_count": 26,
   "id": "9bfa79ee",
   "metadata": {},
   "outputs": [
    {
     "name": "stdout",
     "output_type": "stream",
     "text": [
      "Additon of two matrices:-\n",
      "\n",
      "[[ 2  4  4]\n",
      " [ 8  5 12]\n",
      " [15  9  9]]\n",
      "\n",
      "Multiplication of two matrices:-\n",
      "\n",
      "[[ 1  4  3]\n",
      " [16  0 36]\n",
      " [56  8  0]]\n",
      "\n",
      "Square root of two matrices:-\n",
      "\n",
      "[[1.         1.41421356 1.        ]\n",
      " [2.         0.         2.44948974]\n",
      " [2.82842712 1.         0.        ]]\n",
      "\n",
      "[[1.         1.41421356 1.73205081]\n",
      " [2.         2.23606798 2.44948974]\n",
      " [2.64575131 2.82842712 3.        ]]\n",
      "\n",
      "Sum of matrices:-\n",
      "\n",
      "23\n",
      "45\n",
      "\n",
      "Min in matrices:-\n",
      "\n",
      "0\n",
      "1\n",
      "\n",
      "Max in matrices:-\n",
      "\n",
      "8\n",
      "9\n"
     ]
    }
   ],
   "source": [
    "arr1=np.array([[1,2,1],[4,0,6],[8,1,0]])\n",
    "arr2=np.array([[1,2,3],[4,5,6],[7,8,9]])\n",
    "# Mathematical Operations in Numpy\n",
    "print(\"Additon of two matrices:-\\n\")\n",
    "print(arr1+arr2)\n",
    "print(\"\\nMultiplication of two matrices:-\\n\")\n",
    "print(arr1 * arr2)\n",
    "print(\"\\nSquare root of two matrices:-\\n\")\n",
    "print(np.sqrt(arr1),np.sqrt(arr2),sep=\"\\n\\n\")\n",
    "print(\"\\nSum of matrices:-\\n\")\n",
    "print(arr1.sum(),arr2.sum(),sep=\"\\n\")\n",
    "print(\"\\nMin in matrices:-\\n\")\n",
    "print(arr1.min(),arr2.min(),sep=\"\\n\")\n",
    "print(\"\\nMax in matrices:-\\n\")\n",
    "print(arr1.max(),arr2.max(),sep=\"\\n\")\n"
   ]
  },
  {
   "cell_type": "code",
   "execution_count": 39,
   "id": "37d3ec7a",
   "metadata": {
    "scrolled": true
   },
   "outputs": [
    {
     "name": "stdout",
     "output_type": "stream",
     "text": [
      "[[1 2 1]\n",
      " [4 0 6]\n",
      " [8 1 0]]\n",
      "\n",
      " (array([1, 1, 2], dtype=int64), array([0, 2, 0], dtype=int64))\n",
      "\n",
      " [  1   3   4 634   2]\n",
      "(array([2, 3], dtype=int64),)\n",
      "\n",
      "\n",
      "(array([0, 0, 0, 1, 1, 2, 2], dtype=int64), array([0, 1, 2, 0, 2, 0, 1], dtype=int64))\n",
      "7\n"
     ]
    }
   ],
   "source": [
    "print(arr1)\n",
    "print(\"\\n\",np.where(arr1>2)) #Dimaag kehraabh krr diya ishne (corresponding r & c)\n",
    "print(\"\\n\",ar)\n",
    "print(np.where(ar>3))\n",
    "print(\"\\n\")\n",
    "print(np.nonzero(arr1),np.count_nonzero(arr1),sep=\"\\n\")"
   ]
  },
  {
   "cell_type": "code",
   "execution_count": null,
   "id": "941deb47",
   "metadata": {},
   "outputs": [],
   "source": []
  }
 ],
 "metadata": {
  "kernelspec": {
   "display_name": "Python 3 (ipykernel)",
   "language": "python",
   "name": "python3"
  },
  "language_info": {
   "codemirror_mode": {
    "name": "ipython",
    "version": 3
   },
   "file_extension": ".py",
   "mimetype": "text/x-python",
   "name": "python",
   "nbconvert_exporter": "python",
   "pygments_lexer": "ipython3",
   "version": "3.9.13"
  }
 },
 "nbformat": 4,
 "nbformat_minor": 5
}
