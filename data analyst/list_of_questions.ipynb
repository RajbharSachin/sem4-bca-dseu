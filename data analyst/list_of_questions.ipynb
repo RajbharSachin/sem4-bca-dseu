{
 "cells": [
  {
   "cell_type": "code",
   "execution_count": 1,
   "metadata": {},
   "outputs": [
    {
     "name": "stdout",
     "output_type": "stream",
     "text": [
      "List: [10, 5, 7, 21, 3, 16]\n",
      "Largest number: 21\n",
      "Smallest number: 3\n"
     ]
    }
   ],
   "source": [
    "def find_largest_smallest(numbers):\n",
    "    if not numbers:\n",
    "        return None, None  # Return None for both largest and smallest if the list is empty\n",
    "\n",
    "    smallest = largest = numbers[0]  # Initialize smallest and largest with the first element\n",
    "\n",
    "    for number in numbers:\n",
    "        if number < smallest:\n",
    "            smallest = number\n",
    "        elif number > largest:\n",
    "            largest = number\n",
    "\n",
    "    return largest, smallest\n",
    "\n",
    "\n",
    "# Example usage:\n",
    "num_list = [10, 5, 7, 21, 3, 16]\n",
    "largest_num, smallest_num = find_largest_smallest(num_list)\n",
    "\n",
    "print(\"List:\", num_list)\n",
    "print(\"Largest number:\", largest_num)\n",
    "print(\"Smallest number:\", smallest_num)\n"
   ]
  },
  {
   "cell_type": "code",
   "execution_count": 2,
   "metadata": {},
   "outputs": [
    {
     "name": "stdout",
     "output_type": "stream",
     "text": [
      "Madam is a palindrome\n"
     ]
    }
   ],
   "source": [
    "def is_palindrome(string):\n",
    "    # Remove any whitespace and convert the string to lowercase\n",
    "    string = string.replace(\" \", \"\").lower()\n",
    "\n",
    "    # Check if the reversed string is equal to the original string\n",
    "    return string == string[::-1]\n",
    "\n",
    "\n",
    "# Example usage:\n",
    "word = \"Madam\"\n",
    "if is_palindrome(word):\n",
    "    print(f\"{word} is a palindrome\")\n",
    "else:\n",
    "    print(f\"{word} is not a palindrome\")\n"
   ]
  },
  {
   "cell_type": "code",
   "execution_count": 3,
   "metadata": {},
   "outputs": [
    {
     "name": "stdout",
     "output_type": "stream",
     "text": [
      "!dlroW ,olleH\n",
      "Hlo ol!\n",
      "!lo olH\n"
     ]
    }
   ],
   "source": [
    "my_string = \"Hello, World!\"\n",
    "\n",
    "# Reversing the string using [::-1]\n",
    "reversed_string = my_string[::-1]\n",
    "print(reversed_string)  # Output: \"!dlroW ,olleH\"\n",
    "\n",
    "# Slicing with a step of 2\n",
    "sliced_string = my_string[::2]\n",
    "print(sliced_string)  # Output: \"Hlo ol!\"\n",
    "\n",
    "# Slicing with a step of -2\n",
    "reversed_sliced_string = my_string[::-2]\n",
    "print(reversed_sliced_string)  # Output: \"!rW,elH\""
   ]
  }
 ],
 "metadata": {
  "kernelspec": {
   "display_name": "Python 3",
   "language": "python",
   "name": "python3"
  },
  "language_info": {
   "codemirror_mode": {
    "name": "ipython",
    "version": 3
   },
   "file_extension": ".py",
   "mimetype": "text/x-python",
   "name": "python",
   "nbconvert_exporter": "python",
   "pygments_lexer": "ipython3",
   "version": "3.10.7"
  },
  "orig_nbformat": 4
 },
 "nbformat": 4,
 "nbformat_minor": 2
}
